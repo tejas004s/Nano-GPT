{
 "cells": [
  {
   "cell_type": "markdown",
   "metadata": {},
   "source": [
    "Load the dataset"
   ]
  },
  {
   "cell_type": "code",
   "execution_count": null,
   "metadata": {},
   "outputs": [],
   "source": []
  },
  {
   "cell_type": "code",
   "execution_count": null,
   "metadata": {},
   "outputs": [],
   "source": [
    "!wget https://raw.githubusercontent.com/karpathy/char-rnn/master/data/tinyshakespeare/input.txt"
   ]
  },
  {
   "cell_type": "code",
   "execution_count": null,
   "metadata": {},
   "outputs": [],
   "source": [
    "with open('input.text', 'r', encoding='utf-8') as f:\n",
    "    text = f.read()"
   ]
  },
  {
   "cell_type": "code",
   "execution_count": null,
   "metadata": {},
   "outputs": [],
   "source": [
    "print(\"length of dataset in characters: \", len(text))"
   ]
  },
  {
   "cell_type": "code",
   "execution_count": null,
   "metadata": {},
   "outputs": [],
   "source": [
    "print(text[:1000])"
   ]
  },
  {
   "cell_type": "code",
   "execution_count": null,
   "metadata": {},
   "outputs": [],
   "source": [
    "# here are all the unique characers that occur in this text\n",
    "chars = sorted(list(set(text)))\n",
    "# set constructor on text, and converted to a sorted list\n",
    "vocab_size = len(chars)\n",
    "print(''.join(chars))\n",
    "# all possible chars model can utilize\n",
    "print(vocab_size)"
   ]
  },
  {
   "cell_type": "code",
   "execution_count": null,
   "metadata": {},
   "outputs": [],
   "source": [
    "# Character tokenizer\n",
    "# create a mapping from characters to integers\n",
    "stoi = { ch:i for i, ch in enumerate(chars)}\n",
    "itos = { i:ch for i, ch in enumerate(chars)}\n",
    "encode = lamda s: [stoi[c] for c in s] # encoder: take a string, output a list of string\n",
    "decode = lamda l: ''.join([itos[i] for i in l]) # decoder: take a list of integers, output a string\n",
    "\n",
    "print(encode(\"hii there\"))\n",
    "print(decode(encode(\"hii there\")))"
   ]
  },
  {
   "cell_type": "code",
   "execution_count": null,
   "metadata": {},
   "outputs": [],
   "source": [
    "import torch \n",
    "data = torch.tensor(encode(text), dtype = torch.long))\n",
    "print(data.shape, data.dtype)\n",
    "print(data[:1000])"
   ]
  },
  {
   "cell_type": "code",
   "execution_count": null,
   "metadata": {},
   "outputs": [],
   "source": [
    "# Let's now split up the data into train and validation sets\n",
    "n = int(0.9*len(data)) # first 90% will be train, rest eval\n",
    "train_data = data[:n]\n",
    "val_data = data[n:]"
   ]
  },
  {
   "cell_type": "code",
   "execution_count": null,
   "metadata": {},
   "outputs": [],
   "source": [
    "block_size = 8\n",
    "train_data[:block_size+1]"
   ]
  },
  {
   "cell_type": "code",
   "execution_count": null,
   "metadata": {},
   "outputs": [],
   "source": [
    "x = train_data[:block_size]\n",
    "y = train_data[1:block_size=1]\n",
    "for t in range(block_size):\n",
    "    context = x[:t+1]\n",
    "    target = y[t]\n",
    "    print(f'when input is {context} the target: {target}')"
   ]
  },
  {
   "cell_type": "code",
   "execution_count": null,
   "metadata": {},
   "outputs": [],
   "source": [
    "# By initializing the random no generator we get same output as karpathy's\n",
    "# random locations from data where we will take blocks from\n",
    "torch.manual_seed(1337)\n",
    "batch_size = 4 # how many independent sequences will we process in parallel>\n",
    "block_size = 8 # what is the maximum context length for predictions?\n",
    "\n",
    "def get_batch(split):\n",
    "  # generate a small batch of data of inputs x and targets y\n",
    "  data = train_data if split == 'train' else val_data\n",
    "  # random block sizes of size 4 generateed ix\n",
    "  ix = torch.randint(len(data) - block_size, (batch_size,))\n",
    "  x = torch.stack(data[i: i+block_size] for i in ix)\n",
    "  y = torch.stack(data[i+1: i+block_size+1] for i in ix)\n",
    "  return x, y\n",
    "\n",
    "  xb, yb = get_batch('train')\n",
    "  print(\"inputs:\")\n",
    "  print(xb.shape)\n",
    "  print(xb)\n",
    "  print(\"targets:\")\n",
    "  print(yb.shape)\n",
    "  print(yb)\n",
    "\n",
    "  print('-------')\n",
    "\n",
    "  for b in range(batch_size): # batch dimension\n",
    "    for t in range(block_size): # time dimension\n",
    "      context = xb[b, :t+1]\n",
    "      target = yb[b, t]\n",
    "      print(f\"when input is {context.tolist()} the target: {target}\")"
   ]
  },
  {
   "cell_type": "markdown",
   "metadata": {},
   "source": [
    "bigram language model"
   ]
  },
  {
   "cell_type": "code",
   "execution_count": null,
   "metadata": {},
   "outputs": [],
   "source": [
    "import torch\n",
    "import torch.nn as nn\n",
    "from torch.nn import functional as f\n",
    "torch.manual_seed(1337)\n",
    "\n",
    "class BigramLanguageModel(nn.Module):\n",
    "  super().__init__()\n",
    "  # constructor vocabsize*vocabsize\n",
    "  # each token directly reads off teh logits for the next token from a lookup table\n",
    "  self.token_embedding_table = nn.Embedding(vocab_size, vaocab_size)\n",
    "\n",
    "# idx = index\n",
    "def forward(self, idx, targets = None):\n",
    "\n",
    "  # idx and targets are both (B, T) tensor of integers \n",
    "  logits = self.token_embedding_table(idx) # (Batch, Time, Channels)\n",
    "  if targets is None:\n",
    "    loss = None\n",
    "  \n",
    "  else:\n",
    "    B, T, C = logits.shape\n",
    "    # 2D array stretching out to a 2D array\n",
    "    logits = logits.view(B*T, C)\n",
    "    targets = targets.view(B*T)\n",
    "    # targets = targets.view(-1) pytorch does it automaticallsy\n",
    "    loss = F.cross_entropy(logits, targets)\n",
    "  \n",
    "  return logits, loss\n",
    "\n",
    "def generate(self, idx, max_new_tokens):\n",
    "  # get the predictions only logit part works\n",
    "  logits, loss = self(idx)\n",
    "  # focus only on the last time step\n",
    "  logits = logits[:, -1, :] # becomes [B, C]\n",
    "  # apply softmax to get probabilities\n",
    "  probs = F.softmax(logits, dim = 1) # [B, C]\n",
    "  # sample from the distribution\n",
    "  idx_next = torch.multimonial(probs, num_samples = 1) # (B, 1)\n",
    "  # append sampled index to the running sequence\n",
    "  idx = torch.cat((idx, idx_next), dim=1) # (B, T+1)\n",
    "return idx\n",
    "\n",
    "m = BigramLanguageModel(vocab_size)\n",
    "logits, out = m[xb, yb]\n",
    "print(out.shape)\n",
    "print(logits.shape)\n",
    "print(loss)\n",
    "idx = torch.zeros((1, 1), dtype = torch.long)\n",
    "print(decode([m.generte](, max_new_tokens=100)[0].tolist()))\n",
    "# print(logits.shape) is not possible coz crossentropy requires B, c, t"
   ]
  },
  {
   "cell_type": "code",
   "execution_count": null,
   "metadata": {},
   "outputs": [],
   "source": [
    "# create a PyTorch optimizer\n",
    "# Stochastic Gradient Descent - SGD\n",
    "# small networks you can getaway with much higher lr\n",
    "optimizer = torch.optim.Adam(m.parameters(), lr = 1e-3)\n"
   ]
  },
  {
   "cell_type": "code",
   "execution_count": null,
   "metadata": {},
   "outputs": [],
   "source": [
    "# opitimization object\n",
    "batch_size = 32\n",
    "for steps in range(1000):\n",
    "\n",
    "  # sample a batch of data\n",
    "  xb, yb = get_batch['train']\n",
    "\n",
    "  # evaluate the loss \n",
    "  logits, loss = m[xb, yb] # evaluate the loss\n",
    "  optimizer.zero_grad(set_to_none=True) # zeroing all the gradients\n",
    "  loss.backward() # getting gradients for all parameter\n",
    "  optimizer.step() # update the parameters\n",
    "print(loss.item())"
   ]
  },
  {
   "cell_type": "code",
   "execution_count": null,
   "metadata": {},
   "outputs": [],
   "source": []
  }
 ],
 "metadata": {
  "language_info": {
   "name": "python"
  }
 },
 "nbformat": 4,
 "nbformat_minor": 2
}
